{
  "metadata": {
    "kernelspec": {
      "language": "python",
      "display_name": "Python 3",
      "name": "python3"
    },
    "language_info": {
      "name": "python",
      "version": "3.10.13",
      "mimetype": "text/x-python",
      "codemirror_mode": {
        "name": "ipython",
        "version": 3
      },
      "pygments_lexer": "ipython3",
      "nbconvert_exporter": "python",
      "file_extension": ".py"
    },
    "kaggle": {
      "accelerator": "nvidiaTeslaT4",
      "dataSources": [
        {
          "sourceId": 8783936,
          "sourceType": "datasetVersion",
          "datasetId": 5280417
        }
      ],
      "isInternetEnabled": true,
      "language": "python",
      "sourceType": "notebook",
      "isGpuEnabled": true
    },
    "colab": {
      "provenance": []
    }
  },
  "nbformat_minor": 0,
  "nbformat": 4,
  "cells": [
    {
      "cell_type": "markdown",
      "source": [
        "# Import Libraries"
      ],
      "metadata": {
        "id": "x9fDTeUsf6rm"
      }
    },
    {
      "cell_type": "code",
      "source": [
        "import numpy as np\n",
        "import os\n",
        "import re\n",
        "import string\n",
        "import pandas as pd\n",
        "from bs4 import BeautifulSoup\n",
        "import nltk\n",
        "from nltk.corpus import stopwords, wordnet\n",
        "from nltk.tokenize import word_tokenize\n",
        "from nltk.stem import WordNetLemmatizer\n",
        "import zipfile\n",
        "from transformers import AutoModel, AutoTokenizer\n",
        "import torch\n",
        "from sklearn.linear_model import LogisticRegression\n",
        "from sklearn.metrics import accuracy_score\n",
        "import warnings\n",
        "import tensorflow as tf\n",
        "import tensorflow_hub as hub\n",
        "from sklearn.semi_supervised import LabelPropagation\n",
        "warnings.filterwarnings('ignore')"
      ],
      "metadata": {
        "execution": {
          "iopub.status.busy": "2024-06-27T20:23:26.121941Z",
          "iopub.execute_input": "2024-06-27T20:23:26.122322Z",
          "iopub.status.idle": "2024-06-27T20:23:33.438503Z",
          "shell.execute_reply.started": "2024-06-27T20:23:26.122289Z",
          "shell.execute_reply": "2024-06-27T20:23:33.437614Z"
        },
        "trusted": true,
        "id": "qCVxVaA5f6rr",
        "outputId": "2e3dc48c-acce-496d-db12-7e599eb0dd30"
      },
      "execution_count": null,
      "outputs": [
        {
          "name": "stderr",
          "text": "2024-06-27 20:23:30.100595: E external/local_xla/xla/stream_executor/cuda/cuda_dnn.cc:9261] Unable to register cuDNN factory: Attempting to register factory for plugin cuDNN when one has already been registered\n2024-06-27 20:23:30.100657: E external/local_xla/xla/stream_executor/cuda/cuda_fft.cc:607] Unable to register cuFFT factory: Attempting to register factory for plugin cuFFT when one has already been registered\n2024-06-27 20:23:30.102512: E external/local_xla/xla/stream_executor/cuda/cuda_blas.cc:1515] Unable to register cuBLAS factory: Attempting to register factory for plugin cuBLAS when one has already been registered\n",
          "output_type": "stream"
        }
      ]
    },
    {
      "cell_type": "code",
      "source": [
        "# Download NLTK resources\n",
        "nltk.download('stopwords')\n",
        "nltk.download('punkt')\n",
        "nltk.download('wordnet')"
      ],
      "metadata": {
        "execution": {
          "iopub.status.busy": "2024-06-27T20:23:33.440266Z",
          "iopub.execute_input": "2024-06-27T20:23:33.440880Z",
          "iopub.status.idle": "2024-06-27T20:23:33.579179Z",
          "shell.execute_reply.started": "2024-06-27T20:23:33.440850Z",
          "shell.execute_reply": "2024-06-27T20:23:33.578241Z"
        },
        "trusted": true,
        "id": "FyuNfSE3f6rw",
        "outputId": "9600e028-bff8-4464-d04a-b89c8f7d4b7a"
      },
      "execution_count": null,
      "outputs": [
        {
          "name": "stdout",
          "text": "[nltk_data] Downloading package stopwords to /usr/share/nltk_data...\n[nltk_data]   Package stopwords is already up-to-date!\n[nltk_data] Downloading package punkt to /usr/share/nltk_data...\n[nltk_data]   Package punkt is already up-to-date!\n[nltk_data] Downloading package wordnet to /usr/share/nltk_data...\n[nltk_data]   Package wordnet is already up-to-date!\n",
          "output_type": "stream"
        },
        {
          "execution_count": 2,
          "output_type": "execute_result",
          "data": {
            "text/plain": "True"
          },
          "metadata": {}
        }
      ]
    },
    {
      "cell_type": "code",
      "source": [
        "# Check if WordNet is available, if not, download it and extract\n",
        "try:\n",
        "    nltk.data.find('corpora/wordnet.zip')\n",
        "except LookupError:\n",
        "    nltk.download('wordnet', download_dir='/kaggle/working/')\n",
        "    with zipfile.ZipFile('/kaggle/working/corpora/wordnet.zip', 'r') as zip_ref:\n",
        "        zip_ref.extractall('/kaggle/working/corpora')\n",
        "    nltk.data.path.append('/kaggle/working/')\n",
        "\n",
        "# Now you can import wordnet from nltk.corpus\n",
        "from nltk.corpus import wordnet"
      ],
      "metadata": {
        "execution": {
          "iopub.status.busy": "2024-06-27T20:23:33.580367Z",
          "iopub.execute_input": "2024-06-27T20:23:33.580671Z",
          "iopub.status.idle": "2024-06-27T20:23:33.843782Z",
          "shell.execute_reply.started": "2024-06-27T20:23:33.580646Z",
          "shell.execute_reply": "2024-06-27T20:23:33.842677Z"
        },
        "trusted": true,
        "id": "RUWxzmzQf6rx",
        "outputId": "9a8ec478-851b-4f4f-e0a2-e375180907a9"
      },
      "execution_count": null,
      "outputs": [
        {
          "name": "stdout",
          "text": "[nltk_data] Downloading package wordnet to /kaggle/working/...\n[nltk_data]   Package wordnet is already up-to-date!\n",
          "output_type": "stream"
        }
      ]
    },
    {
      "cell_type": "markdown",
      "source": [
        "# Text Preprocessing"
      ],
      "metadata": {
        "id": "Gw4HDePKf6rx"
      }
    },
    {
      "cell_type": "code",
      "source": [
        "# Define preprocessing function\n",
        "def preprocess_text(text):\n",
        "    text = BeautifulSoup(text, \"html.parser\").get_text()\n",
        "    text = text.lower()\n",
        "    text = re.sub(f'[{re.escape(string.punctuation)}]', '', text)\n",
        "    stop_words = set(stopwords.words('english'))\n",
        "    words = word_tokenize(text)\n",
        "    words = [word for word in words if word.lower() not in stop_words]\n",
        "    lemmatizer = WordNetLemmatizer()\n",
        "    words = [lemmatizer.lemmatize(word) for word in words]\n",
        "    return ' '.join(words)"
      ],
      "metadata": {
        "execution": {
          "iopub.status.busy": "2024-06-27T20:23:33.845075Z",
          "iopub.execute_input": "2024-06-27T20:23:33.845464Z",
          "iopub.status.idle": "2024-06-27T20:23:33.852076Z",
          "shell.execute_reply.started": "2024-06-27T20:23:33.845429Z",
          "shell.execute_reply": "2024-06-27T20:23:33.851101Z"
        },
        "trusted": true,
        "id": "E8e8gk07f6ry"
      },
      "execution_count": null,
      "outputs": []
    },
    {
      "cell_type": "markdown",
      "source": [
        "# Read Data"
      ],
      "metadata": {
        "id": "MydxCQq3f6ry"
      }
    },
    {
      "cell_type": "code",
      "source": [
        "# Function to read files from folder and create DataFrame\n",
        "def create_dataframe(folder, label):\n",
        "    file_list = os.listdir(folder)\n",
        "    texts = []\n",
        "    labels = []\n",
        "    for file in file_list:\n",
        "        with open(os.path.join(folder, file), 'r', encoding='utf-8') as f:\n",
        "            text = f.read()\n",
        "            texts.append(preprocess_text(text))\n",
        "            labels.append(label)\n",
        "    return pd.DataFrame({'text': texts, 'label': labels})"
      ],
      "metadata": {
        "execution": {
          "iopub.status.busy": "2024-06-27T20:23:33.855120Z",
          "iopub.execute_input": "2024-06-27T20:23:33.855426Z",
          "iopub.status.idle": "2024-06-27T20:23:33.861600Z",
          "shell.execute_reply.started": "2024-06-27T20:23:33.855395Z",
          "shell.execute_reply": "2024-06-27T20:23:33.860789Z"
        },
        "trusted": true,
        "id": "Wm-HisWOf6ry"
      },
      "execution_count": null,
      "outputs": []
    },
    {
      "cell_type": "code",
      "source": [
        "# Paths to positive and negative folders for training and testing\n",
        "positive_folder_train = '/kaggle/input/imdb-nlp/aclImdb/train/pos'\n",
        "negative_folder_train = '/kaggle/input/imdb-nlp/aclImdb/train/neg'\n",
        "positive_folder_test = '/kaggle/input/imdb-nlp/aclImdb/test/pos'\n",
        "negative_folder_test = '/kaggle/input/imdb-nlp/aclImdb/test/neg'"
      ],
      "metadata": {
        "execution": {
          "iopub.status.busy": "2024-06-27T20:23:33.862636Z",
          "iopub.execute_input": "2024-06-27T20:23:33.862889Z",
          "iopub.status.idle": "2024-06-27T20:23:33.870846Z",
          "shell.execute_reply.started": "2024-06-27T20:23:33.862867Z",
          "shell.execute_reply": "2024-06-27T20:23:33.869946Z"
        },
        "trusted": true,
        "id": "2er6qiAmf6rz"
      },
      "execution_count": null,
      "outputs": []
    },
    {
      "cell_type": "code",
      "source": [
        "# Create DataFrames for positive and negative reviews\n",
        "df_train_positive = create_dataframe(positive_folder_train, 1)\n",
        "df_train_negative = create_dataframe(negative_folder_train, 0)\n",
        "df_test_positive = create_dataframe(positive_folder_test, 1)\n",
        "df_test_negative = create_dataframe(negative_folder_test, 0)"
      ],
      "metadata": {
        "execution": {
          "iopub.status.busy": "2024-06-27T20:23:33.871903Z",
          "iopub.execute_input": "2024-06-27T20:23:33.872234Z",
          "iopub.status.idle": "2024-06-27T20:27:23.398184Z",
          "shell.execute_reply.started": "2024-06-27T20:23:33.872208Z",
          "shell.execute_reply": "2024-06-27T20:27:23.397081Z"
        },
        "trusted": true,
        "id": "igOxdzmSf6rz"
      },
      "execution_count": null,
      "outputs": []
    },
    {
      "cell_type": "code",
      "source": [
        "# Combine DataFrames\n",
        "df_train = pd.concat([df_train_positive, df_train_negative], ignore_index=True).sample(frac=1).reset_index(drop=True)\n",
        "df_test = pd.concat([df_test_positive, df_test_negative], ignore_index=True).sample(frac=1).reset_index(drop=True)"
      ],
      "metadata": {
        "execution": {
          "iopub.status.busy": "2024-06-27T20:27:23.399803Z",
          "iopub.execute_input": "2024-06-27T20:27:23.400220Z",
          "iopub.status.idle": "2024-06-27T20:27:23.418362Z",
          "shell.execute_reply.started": "2024-06-27T20:27:23.400185Z",
          "shell.execute_reply": "2024-06-27T20:27:23.417489Z"
        },
        "trusted": true,
        "id": "fg7bcbxIf6r0"
      },
      "execution_count": null,
      "outputs": []
    },
    {
      "cell_type": "markdown",
      "source": [
        "# Save Data"
      ],
      "metadata": {
        "id": "-hUxpmbZf6r1"
      }
    },
    {
      "cell_type": "code",
      "source": [
        "# Save combined data\n",
        "df_train.to_csv('imdb_train.csv', index=False)\n",
        "df_test.to_csv('imdb_test.csv', index=False)"
      ],
      "metadata": {
        "execution": {
          "iopub.status.busy": "2024-06-27T20:27:23.419456Z",
          "iopub.execute_input": "2024-06-27T20:27:23.419732Z",
          "iopub.status.idle": "2024-06-27T20:27:25.152363Z",
          "shell.execute_reply.started": "2024-06-27T20:27:23.419708Z",
          "shell.execute_reply": "2024-06-27T20:27:25.151310Z"
        },
        "trusted": true,
        "id": "BQKbeAzsf6r1"
      },
      "execution_count": null,
      "outputs": []
    },
    {
      "cell_type": "markdown",
      "source": [
        "# Word Embedding"
      ],
      "metadata": {
        "id": "Ni7VQKVkf6r1"
      }
    },
    {
      "cell_type": "code",
      "source": [
        "model = hub.load(\"https://tfhub.dev/google/universal-sentence-encoder/4\")\n",
        "\n",
        "def get_embeddings(texts):\n",
        "    return model(texts).numpy()"
      ],
      "metadata": {
        "execution": {
          "iopub.status.busy": "2024-06-27T20:27:25.153892Z",
          "iopub.execute_input": "2024-06-27T20:27:25.154741Z",
          "iopub.status.idle": "2024-06-27T20:27:32.222024Z",
          "shell.execute_reply.started": "2024-06-27T20:27:25.154704Z",
          "shell.execute_reply": "2024-06-27T20:27:32.221016Z"
        },
        "trusted": true,
        "id": "JHZezaB6f6r2"
      },
      "execution_count": null,
      "outputs": []
    },
    {
      "cell_type": "code",
      "source": [
        "# Generate embeddings for train and test sets\n",
        "train_embeddings = get_embeddings(df_train['text'].tolist())\n",
        "test_embeddings = get_embeddings(df_test['text'].tolist())"
      ],
      "metadata": {
        "execution": {
          "iopub.status.busy": "2024-06-27T20:27:32.223242Z",
          "iopub.execute_input": "2024-06-27T20:27:32.223628Z",
          "iopub.status.idle": "2024-06-27T20:28:38.015210Z",
          "shell.execute_reply.started": "2024-06-27T20:27:32.223585Z",
          "shell.execute_reply": "2024-06-27T20:28:38.014067Z"
        },
        "trusted": true,
        "id": "QbqZgnR_f6r2"
      },
      "execution_count": null,
      "outputs": []
    },
    {
      "cell_type": "code",
      "source": [
        "train_embeddings[0]"
      ],
      "metadata": {
        "execution": {
          "iopub.status.busy": "2024-06-27T20:28:38.016682Z",
          "iopub.execute_input": "2024-06-27T20:28:38.017081Z",
          "iopub.status.idle": "2024-06-27T20:28:38.030557Z",
          "shell.execute_reply.started": "2024-06-27T20:28:38.017042Z",
          "shell.execute_reply": "2024-06-27T20:28:38.029509Z"
        },
        "trusted": true,
        "id": "zW8FTv0vf6r2",
        "outputId": "31e57ddb-83b5-446f-f21a-6bf3d29ae269"
      },
      "execution_count": null,
      "outputs": [
        {
          "execution_count": 12,
          "output_type": "execute_result",
          "data": {
            "text/plain": "array([-0.04525758, -0.0526232 , -0.01014766,  0.04062925,  0.0123058 ,\n       -0.01809353,  0.04096839,  0.033743  ,  0.01182944,  0.00996784,\n        0.0685721 , -0.01391728,  0.05978886, -0.03836506,  0.06837686,\n       -0.05075344, -0.0198391 , -0.01898024,  0.04844068, -0.05835446,\n        0.00498058, -0.05688594, -0.04241044, -0.02337722,  0.06099991,\n       -0.06403549,  0.06839496, -0.02904262,  0.06546114,  0.03911061,\n       -0.02278733, -0.04727154,  0.04120048,  0.03924045, -0.04610619,\n       -0.0631501 , -0.03527929, -0.044189  , -0.0630409 , -0.01752204,\n        0.00076708, -0.0672782 , -0.05479724,  0.00806737,  0.03632718,\n       -0.03719103,  0.01311381,  0.0609249 ,  0.05223392, -0.01754012,\n        0.06829661, -0.03461567, -0.05955932,  0.01997112,  0.04085742,\n       -0.01057106,  0.06483255,  0.0107857 ,  0.01377313, -0.01535443,\n        0.04442367, -0.0430274 , -0.00094905, -0.05589837, -0.00386348,\n        0.04924662, -0.00944751,  0.00110074,  0.05669277, -0.0674859 ,\n       -0.05500757,  0.05997531,  0.01614637, -0.05184229, -0.00836117,\n       -0.02398347, -0.05703881, -0.00571989,  0.03387463, -0.0178254 ,\n       -0.06749132,  0.0292199 , -0.02285609,  0.00741256,  0.01926154,\n        0.02463818,  0.01977812,  0.04345811, -0.06279757,  0.02182442,\n        0.00135831, -0.06882124, -0.0253336 ,  0.05978955,  0.0348863 ,\n       -0.01912664,  0.01071694,  0.06271284,  0.06884557, -0.0143068 ,\n        0.05947569, -0.03939106, -0.00942139, -0.06794444, -0.0593582 ,\n       -0.0103397 , -0.02948576, -0.00730952, -0.06166866,  0.03941914,\n       -0.05359273, -0.06856899, -0.03311039, -0.0616146 ,  0.0121936 ,\n        0.03406235,  0.03055193,  0.06206705, -0.06854121, -0.01980362,\n       -0.04080466,  0.03429553, -0.04036328,  0.02906567,  0.00193966,\n       -0.04202446, -0.01473725, -0.06842428,  0.06332947, -0.02176944,\n       -0.0294218 , -0.05265303, -0.03960998,  0.00113103, -0.02049445,\n        0.02978463,  0.04896745, -0.05314346,  0.01944198,  0.06403993,\n        0.05826529,  0.06902442,  0.04230728, -0.01981923,  0.00982727,\n       -0.03577138, -0.01057181, -0.06192644,  0.00660972, -0.03461121,\n        0.02407043, -0.03462144, -0.04638236,  0.04170471, -0.02364545,\n        0.05930134,  0.03551206,  0.03355948,  0.03461634,  0.06441286,\n        0.06516276, -0.05836039,  0.03715863, -0.0680609 ,  0.05769078,\n       -0.0381242 , -0.05807625,  0.0048511 , -0.00615746,  0.01233969,\n        0.04796428, -0.06541617, -0.05000189, -0.02635158, -0.06746675,\n        0.02697627, -0.05127715, -0.01302272, -0.04953855, -0.06537224,\n        0.05383763,  0.05001885, -0.04553969, -0.00423133, -0.06906042,\n        0.01855772,  0.00779265, -0.0553303 ,  0.0527988 ,  0.05644839,\n        0.06324756,  0.0051543 , -0.01745085, -0.06362762, -0.02291996,\n       -0.05264219, -0.02219052,  0.04042979,  0.04928718,  0.03043287,\n       -0.06140634,  0.06192326, -0.06176442, -0.0120472 ,  0.06850415,\n       -0.01782057,  0.02827954, -0.03100748, -0.04572422, -0.0188847 ,\n       -0.0001329 , -0.01266956,  0.01756831, -0.00831934, -0.06304643,\n        0.06632403, -0.05842019, -0.03205223, -0.05841622, -0.0475454 ,\n        0.03113319,  0.06587923, -0.01166327,  0.00935479, -0.06772698,\n       -0.06539668, -0.0158733 ,  0.0361704 ,  0.05647446, -0.04393259,\n        0.04276384, -0.03662257,  0.01634416, -0.06906264,  0.06144737,\n        0.0303296 , -0.04081156, -0.05619796, -0.03318128,  0.04335263,\n       -0.02951911,  0.00495254,  0.06045932, -0.05396139,  0.06236327,\n        0.05162678, -0.0449442 ,  0.02258093, -0.00194688,  0.05468716,\n       -0.04087534, -0.05905567,  0.06404269, -0.01280837,  0.02006639,\n        0.05626591, -0.06207227,  0.06906717,  0.05986139,  0.02626647,\n       -0.02748703,  0.04448666,  0.02841071,  0.05215603, -0.01527837,\n        0.02271332,  0.06660778, -0.0304224 ,  0.04292345, -0.0119436 ,\n       -0.00503574,  0.0525807 , -0.04027009,  0.02330226,  0.06218337,\n       -0.04389583, -0.05000017, -0.06406909,  0.05125077, -0.01488823,\n       -0.03450414,  0.04189569,  0.04112693, -0.06145891,  0.02165151,\n       -0.06827067,  0.05808476, -0.05880046,  0.04646241,  0.01075532,\n       -0.06532095,  0.06577111,  0.04807775, -0.00063015,  0.0500573 ,\n       -0.05385629,  0.05808363, -0.06321938,  0.05132809, -0.04484463,\n        0.03616958,  0.01227625,  0.02829584, -0.00750407,  0.0526282 ,\n       -0.05586958,  0.02532671, -0.06697361,  0.06523816,  0.02163438,\n        0.01727693, -0.02271779,  0.06204403, -0.03998001, -0.02615246,\n       -0.01953579,  0.06397639, -0.01857612,  0.00563275, -0.03060841,\n       -0.03908804, -0.05679084, -0.04870831, -0.03122067,  0.04126758,\n        0.03850861,  0.04819779,  0.0373545 ,  0.03732765, -0.02268136,\n       -0.02494127,  0.02521042, -0.04560634,  0.03998785, -0.06567819,\n        0.02750543,  0.05232977, -0.00095869, -0.04364184,  0.0334176 ,\n       -0.01474642,  0.06296568,  0.04268194,  0.00702467,  0.00576685,\n        0.05389106, -0.00381933,  0.01921787, -0.04140483,  0.06421863,\n       -0.06526038, -0.0647935 , -0.06260587, -0.01852069,  0.00311603,\n        0.03452414, -0.06891656,  0.06685179, -0.03743595,  0.01889788,\n       -0.04182283, -0.0255604 ,  0.06797427,  0.06826502,  0.06005303,\n       -0.06011608,  0.06496538,  0.00547313,  0.05484357, -0.04599788,\n        0.05688717,  0.02237246, -0.06510565,  0.05447886, -0.03469039,\n       -0.00443595,  0.04990325, -0.0521501 , -0.04777116, -0.01644401,\n       -0.04971971,  0.05656667,  0.04670938,  0.0154528 ,  0.03898839,\n       -0.04041747,  0.00975671, -0.0058159 , -0.06252274, -0.02101252,\n       -0.00538076, -0.0132432 ,  0.06319631,  0.01994807,  0.05445661,\n        0.02143971, -0.02807492, -0.04403153, -0.01239928, -0.0688574 ,\n       -0.05882103, -0.04446927,  0.06737652, -0.03885513,  0.06818839,\n        0.06203586,  0.06761044,  0.04071522, -0.05354165,  0.0267818 ,\n       -0.03716082, -0.0094056 , -0.01396774, -0.04514353,  0.05838806,\n        0.05012967, -0.04768988, -0.04301307,  0.05481457, -0.04669349,\n        0.03512659, -0.0674713 , -0.03629375,  0.05142755, -0.05243654,\n        0.06182288, -0.04315532, -0.040904  , -0.00199958,  0.06363709,\n        0.0574857 , -0.01618901,  0.04484713,  0.06460924, -0.0376495 ,\n        0.01869903,  0.00152511,  0.06018775,  0.01670702,  0.0641458 ,\n       -0.06347021,  0.03084626,  0.01383267,  0.00565777,  0.03056616,\n        0.04570831,  0.05474473,  0.02614566,  0.05498236,  0.04187538,\n       -0.02848822, -0.00928333,  0.01564519,  0.06280331, -0.04843728,\n       -0.01961502,  0.04795539,  0.05608968, -0.06791594, -0.03054345,\n       -0.01303108,  0.04789295,  0.05405082,  0.0614786 , -0.02695867,\n        0.05144031, -0.0416525 , -0.01249896, -0.05137963,  0.03880543,\n       -0.00924033,  0.01825702,  0.01943418, -0.03931741,  0.05098653,\n       -0.04909335,  0.05112106, -0.06291171,  0.06182753, -0.03441614,\n       -0.06622564,  0.04834375, -0.0415553 , -0.06887082, -0.06580251,\n        0.02263279,  0.04821292,  0.06752431, -0.00237656, -0.03042672,\n        0.00676838, -0.05353852, -0.01649153,  0.05192431,  0.02572721,\n        0.03819137, -0.04493206, -0.01389124, -0.04908356, -0.03092665,\n       -0.00650135, -0.01621518, -0.03759251, -0.05541653,  0.06511024,\n       -0.05714397,  0.05220418,  0.05029564,  0.04700097, -0.04177867,\n        0.06844977,  0.02165877], dtype=float32)"
          },
          "metadata": {}
        }
      ]
    },
    {
      "cell_type": "code",
      "source": [
        "len(train_embeddings)"
      ],
      "metadata": {
        "execution": {
          "iopub.status.busy": "2024-06-27T20:28:38.031718Z",
          "iopub.execute_input": "2024-06-27T20:28:38.032060Z",
          "iopub.status.idle": "2024-06-27T20:28:38.040755Z",
          "shell.execute_reply.started": "2024-06-27T20:28:38.032030Z",
          "shell.execute_reply": "2024-06-27T20:28:38.039903Z"
        },
        "trusted": true,
        "id": "Rojl9Cbtf6r3",
        "outputId": "6dc320ca-120e-41a7-9f65-7feb29e2c6c0"
      },
      "execution_count": null,
      "outputs": [
        {
          "execution_count": 13,
          "output_type": "execute_result",
          "data": {
            "text/plain": "25000"
          },
          "metadata": {}
        }
      ]
    },
    {
      "cell_type": "code",
      "source": [
        "train_embeddings.shape"
      ],
      "metadata": {
        "execution": {
          "iopub.status.busy": "2024-06-27T20:28:38.045380Z",
          "iopub.execute_input": "2024-06-27T20:28:38.045693Z",
          "iopub.status.idle": "2024-06-27T20:28:38.051315Z",
          "shell.execute_reply.started": "2024-06-27T20:28:38.045668Z",
          "shell.execute_reply": "2024-06-27T20:28:38.050450Z"
        },
        "trusted": true,
        "id": "0A4L8VQXf6r4",
        "outputId": "0b7d4ad6-91a1-48f7-b1c3-472a2529d473"
      },
      "execution_count": null,
      "outputs": [
        {
          "execution_count": 14,
          "output_type": "execute_result",
          "data": {
            "text/plain": "(25000, 512)"
          },
          "metadata": {}
        }
      ]
    },
    {
      "cell_type": "code",
      "source": [
        "# model_name = 'princeton-nlp/sup-simcse-bert-base-uncased'\n",
        "# tokenizer = AutoTokenizer.from_pretrained(model_name)\n",
        "# model = AutoModel.from_pretrained(model_name)"
      ],
      "metadata": {
        "execution": {
          "iopub.status.busy": "2024-06-27T20:28:38.052407Z",
          "iopub.execute_input": "2024-06-27T20:28:38.052744Z",
          "iopub.status.idle": "2024-06-27T20:28:38.058513Z",
          "shell.execute_reply.started": "2024-06-27T20:28:38.052695Z",
          "shell.execute_reply": "2024-06-27T20:28:38.057596Z"
        },
        "trusted": true,
        "id": "Uk0G9YH0f6r4"
      },
      "execution_count": null,
      "outputs": []
    },
    {
      "cell_type": "code",
      "source": [
        "# def get_embeddings(texts):\n",
        "#     inputs = tokenizer(texts, padding=True, truncation=True, return_tensors=\"pt\")\n",
        "#     with torch.no_grad():\n",
        "#         embeddings = model(**inputs, output_hidden_states=True, return_dict=True).pooler_output\n",
        "#     return embeddings.cpu().numpy()"
      ],
      "metadata": {
        "execution": {
          "iopub.status.busy": "2024-06-27T20:28:38.059671Z",
          "iopub.execute_input": "2024-06-27T20:28:38.059980Z",
          "iopub.status.idle": "2024-06-27T20:28:38.066314Z",
          "shell.execute_reply.started": "2024-06-27T20:28:38.059952Z",
          "shell.execute_reply": "2024-06-27T20:28:38.065496Z"
        },
        "trusted": true,
        "id": "DV-ouZcGf6r4"
      },
      "execution_count": null,
      "outputs": []
    },
    {
      "cell_type": "code",
      "source": [
        "# # Generate embeddings for train and test sets\n",
        "# train_embeddings = get_embeddings(df_train['text'].tolist())\n",
        "# test_embeddings = get_embeddings(df_test['text'].tolist())"
      ],
      "metadata": {
        "execution": {
          "iopub.status.busy": "2024-06-27T20:28:38.067457Z",
          "iopub.execute_input": "2024-06-27T20:28:38.068834Z",
          "iopub.status.idle": "2024-06-27T20:28:38.074763Z",
          "shell.execute_reply.started": "2024-06-27T20:28:38.068809Z",
          "shell.execute_reply": "2024-06-27T20:28:38.073851Z"
        },
        "trusted": true,
        "id": "sWCLBs2Hf6r5"
      },
      "execution_count": null,
      "outputs": []
    },
    {
      "cell_type": "markdown",
      "source": [
        "# Save Embedding"
      ],
      "metadata": {
        "id": "0SMtKEVqf6r5"
      }
    },
    {
      "cell_type": "code",
      "source": [
        "# # Save embeddings\n",
        "# np.save('train_embeddings.npy', train_embeddings)\n",
        "# np.save('test_embeddings.npy', test_embeddings)\n",
        "\n",
        "\n",
        "\n",
        "# Specify the directory path where you want to save the embeddings file\n",
        "directory_path = '/kaggle/working/'\n",
        "\n",
        "# Create the directory if it doesn't exist\n",
        "if not os.path.exists(directory_path):\n",
        "    os.makedirs(directory_path)\n",
        "\n",
        "# Save the embeddings file in the specified directory\n",
        "np.save(os.path.join(directory_path, 'train_embeddings.npy'), train_embeddings)\n",
        "np.save(os.path.join(directory_path, 'test_embeddings.npy'), test_embeddings)"
      ],
      "metadata": {
        "execution": {
          "iopub.status.busy": "2024-06-27T20:28:38.076126Z",
          "iopub.execute_input": "2024-06-27T20:28:38.076473Z",
          "iopub.status.idle": "2024-06-27T20:28:38.174436Z",
          "shell.execute_reply.started": "2024-06-27T20:28:38.076439Z",
          "shell.execute_reply": "2024-06-27T20:28:38.173618Z"
        },
        "trusted": true,
        "id": "RAABLz4Kf6r5"
      },
      "execution_count": null,
      "outputs": []
    },
    {
      "cell_type": "code",
      "source": [
        "# Load embeddings and labels\n",
        "train_embeddings = np.load('train_embeddings.npy')\n",
        "test_embeddings = np.load('test_embeddings.npy')"
      ],
      "metadata": {
        "execution": {
          "iopub.status.busy": "2024-06-27T20:28:38.175626Z",
          "iopub.execute_input": "2024-06-27T20:28:38.175923Z",
          "iopub.status.idle": "2024-06-27T20:28:38.213613Z",
          "shell.execute_reply.started": "2024-06-27T20:28:38.175899Z",
          "shell.execute_reply": "2024-06-27T20:28:38.212768Z"
        },
        "trusted": true,
        "id": "7FHJzn8Sf6r6"
      },
      "execution_count": null,
      "outputs": []
    },
    {
      "cell_type": "code",
      "source": [
        "df_train=pd.read_csv(\"/kaggle/working/imdb_train.csv\")\n",
        "df_test=pd.read_csv(\"/kaggle/working/imdb_test.csv\")"
      ],
      "metadata": {
        "execution": {
          "iopub.status.busy": "2024-06-27T20:28:38.214626Z",
          "iopub.execute_input": "2024-06-27T20:28:38.214906Z",
          "iopub.status.idle": "2024-06-27T20:28:38.661313Z",
          "shell.execute_reply.started": "2024-06-27T20:28:38.214883Z",
          "shell.execute_reply": "2024-06-27T20:28:38.660449Z"
        },
        "trusted": true,
        "id": "I4uamVHJf6r6"
      },
      "execution_count": null,
      "outputs": []
    },
    {
      "cell_type": "code",
      "source": [
        "train_labels = df_train['label'].values\n",
        "test_labels = df_test['label'].values"
      ],
      "metadata": {
        "execution": {
          "iopub.status.busy": "2024-06-27T20:28:38.662665Z",
          "iopub.execute_input": "2024-06-27T20:28:38.663048Z",
          "iopub.status.idle": "2024-06-27T20:28:38.668037Z",
          "shell.execute_reply.started": "2024-06-27T20:28:38.663015Z",
          "shell.execute_reply": "2024-06-27T20:28:38.666988Z"
        },
        "trusted": true,
        "id": "jHYI9tn-f6r7"
      },
      "execution_count": null,
      "outputs": []
    },
    {
      "cell_type": "code",
      "source": [
        "train_labels[:10]"
      ],
      "metadata": {
        "execution": {
          "iopub.status.busy": "2024-06-27T20:28:38.669260Z",
          "iopub.execute_input": "2024-06-27T20:28:38.669587Z",
          "iopub.status.idle": "2024-06-27T20:28:38.678499Z",
          "shell.execute_reply.started": "2024-06-27T20:28:38.669535Z",
          "shell.execute_reply": "2024-06-27T20:28:38.677632Z"
        },
        "trusted": true,
        "id": "QfY9_rlIf6r7",
        "outputId": "523c6bec-9dc8-4000-8c8a-1f8ec05f11a6"
      },
      "execution_count": null,
      "outputs": [
        {
          "execution_count": 22,
          "output_type": "execute_result",
          "data": {
            "text/plain": "array([0, 1, 0, 1, 0, 0, 0, 1, 1, 0])"
          },
          "metadata": {}
        }
      ]
    },
    {
      "cell_type": "markdown",
      "source": [
        "# Supervised Learning Model"
      ],
      "metadata": {
        "id": "NCG_i3i4f6r8"
      }
    },
    {
      "cell_type": "code",
      "source": [
        "# Train supervised model\n",
        "clf_supervised = LogisticRegression(max_iter=1000)\n",
        "clf_supervised.fit(train_embeddings, train_labels)\n",
        "preds_supervised = clf_supervised.predict(test_embeddings)\n",
        "accuracy_supervised = accuracy_score(test_labels, preds_supervised)"
      ],
      "metadata": {
        "execution": {
          "iopub.status.busy": "2024-06-27T20:28:38.679514Z",
          "iopub.execute_input": "2024-06-27T20:28:38.679898Z",
          "iopub.status.idle": "2024-06-27T20:28:40.029074Z",
          "shell.execute_reply.started": "2024-06-27T20:28:38.679874Z",
          "shell.execute_reply": "2024-06-27T20:28:40.027621Z"
        },
        "trusted": true,
        "id": "w_QMdTsBf6r9"
      },
      "execution_count": null,
      "outputs": []
    },
    {
      "cell_type": "code",
      "source": [
        "# Print accuracy\n",
        "print(f\"Supervised Model Accuracy: {accuracy_supervised}\")"
      ],
      "metadata": {
        "execution": {
          "iopub.status.busy": "2024-06-27T20:28:40.031414Z",
          "iopub.execute_input": "2024-06-27T20:28:40.032442Z",
          "iopub.status.idle": "2024-06-27T20:28:40.039425Z",
          "shell.execute_reply.started": "2024-06-27T20:28:40.032387Z",
          "shell.execute_reply": "2024-06-27T20:28:40.038195Z"
        },
        "trusted": true,
        "id": "R9yhwJj5f6r9",
        "outputId": "90496f29-0630-4218-f6c7-efe63b7874de"
      },
      "execution_count": null,
      "outputs": [
        {
          "name": "stdout",
          "text": "Supervised Model Accuracy: 0.83248\n",
          "output_type": "stream"
        }
      ]
    },
    {
      "cell_type": "code",
      "source": [
        "def evaluate_model(clf, test_embeddings, test_labels):\n",
        "    preds = clf.predict(test_embeddings)\n",
        "    accuracy = accuracy_score(test_labels, preds)\n",
        "    return accuracy"
      ],
      "metadata": {
        "execution": {
          "iopub.status.busy": "2024-06-27T20:28:40.041575Z",
          "iopub.execute_input": "2024-06-27T20:28:40.042505Z",
          "iopub.status.idle": "2024-06-27T20:28:40.049644Z",
          "shell.execute_reply.started": "2024-06-27T20:28:40.042457Z",
          "shell.execute_reply": "2024-06-27T20:28:40.048392Z"
        },
        "trusted": true,
        "id": "Pugjo6oyf6r-"
      },
      "execution_count": null,
      "outputs": []
    },
    {
      "cell_type": "markdown",
      "source": [
        "# Label Propagation"
      ],
      "metadata": {
        "id": "jXX0_nygf6r_"
      }
    },
    {
      "cell_type": "code",
      "source": [
        "def label_propagation(train_embeddings, train_labels):\n",
        "    label_prop_model = LabelPropagation()\n",
        "    label_prop_model.fit(train_embeddings, train_labels)\n",
        "    return label_prop_model"
      ],
      "metadata": {
        "execution": {
          "iopub.status.busy": "2024-06-27T20:28:40.051966Z",
          "iopub.execute_input": "2024-06-27T20:28:40.053198Z",
          "iopub.status.idle": "2024-06-27T20:28:40.060386Z",
          "shell.execute_reply.started": "2024-06-27T20:28:40.053149Z",
          "shell.execute_reply": "2024-06-27T20:28:40.058777Z"
        },
        "trusted": true,
        "id": "Ok7hq-6Mf6r_"
      },
      "execution_count": null,
      "outputs": []
    },
    {
      "cell_type": "code",
      "source": [
        " fraction = 0.1"
      ],
      "metadata": {
        "execution": {
          "iopub.status.busy": "2024-06-27T20:28:40.063045Z",
          "iopub.execute_input": "2024-06-27T20:28:40.064279Z",
          "iopub.status.idle": "2024-06-27T20:28:40.070128Z",
          "shell.execute_reply.started": "2024-06-27T20:28:40.064231Z",
          "shell.execute_reply": "2024-06-27T20:28:40.068569Z"
        },
        "trusted": true,
        "id": "7215feTCf6sA"
      },
      "execution_count": null,
      "outputs": []
    },
    {
      "cell_type": "code",
      "source": [
        "# Label Propagation\n",
        "num_labeled = int(fraction * len(train_labels[:10000]))\n",
        "semi_supervised_labels = np.copy(train_labels[:10000])\n",
        "semi_supervised_labels[num_labeled:] = -1  # -1 indicates unlabeled data for LabelPropagation\n",
        "label_prop_model = label_propagation(train_embeddings[:10000], semi_supervised_labels)\n",
        "propagated_labels = label_prop_model.transduction_"
      ],
      "metadata": {
        "execution": {
          "iopub.status.busy": "2024-06-27T20:29:05.109967Z",
          "iopub.execute_input": "2024-06-27T20:29:05.111040Z",
          "iopub.status.idle": "2024-06-27T20:34:36.682268Z",
          "shell.execute_reply.started": "2024-06-27T20:29:05.110994Z",
          "shell.execute_reply": "2024-06-27T20:34:36.680607Z"
        },
        "trusted": true,
        "id": "AM7IGCrxf6sA"
      },
      "execution_count": null,
      "outputs": []
    },
    {
      "cell_type": "code",
      "source": [
        "len(propagated_labels)"
      ],
      "metadata": {
        "execution": {
          "iopub.status.busy": "2024-06-27T20:34:36.684454Z",
          "iopub.execute_input": "2024-06-27T20:34:36.688462Z",
          "iopub.status.idle": "2024-06-27T20:34:36.696128Z",
          "shell.execute_reply.started": "2024-06-27T20:34:36.688421Z",
          "shell.execute_reply": "2024-06-27T20:34:36.694953Z"
        },
        "trusted": true,
        "id": "Zlg9kL8Gf6sB",
        "outputId": "566b6169-8f4f-47ba-c9bc-f8c3c5e98fcd"
      },
      "execution_count": null,
      "outputs": [
        {
          "execution_count": 29,
          "output_type": "execute_result",
          "data": {
            "text/plain": "10000"
          },
          "metadata": {}
        }
      ]
    },
    {
      "cell_type": "code",
      "source": [
        "# train_labels[:100]"
      ],
      "metadata": {
        "execution": {
          "iopub.status.busy": "2024-06-27T20:34:36.697988Z",
          "iopub.execute_input": "2024-06-27T20:34:36.698849Z",
          "iopub.status.idle": "2024-06-27T20:34:36.711864Z",
          "shell.execute_reply.started": "2024-06-27T20:34:36.698807Z",
          "shell.execute_reply": "2024-06-27T20:34:36.710499Z"
        },
        "trusted": true,
        "id": "6Pfuu_CAf6sB"
      },
      "execution_count": null,
      "outputs": []
    },
    {
      "cell_type": "markdown",
      "source": [
        "# Self-Supervised Model"
      ],
      "metadata": {
        "id": "qnb6pwENf6sC"
      }
    },
    {
      "cell_type": "code",
      "source": [
        "# Self-Supervised Model with propagated labels\n",
        "clf_self_supervised = LogisticRegression(max_iter=1000)\n",
        "clf_self_supervised.fit(train_embeddings[:10000], propagated_labels)\n",
        "accuracy_self_supervised = evaluate_model(clf_self_supervised, test_embeddings, test_labels)\n",
        "print(f\"Self-Supervised Model Accuracy: {accuracy_self_supervised}\")"
      ],
      "metadata": {
        "execution": {
          "iopub.status.busy": "2024-06-27T20:34:36.714801Z",
          "iopub.execute_input": "2024-06-27T20:34:36.721153Z",
          "iopub.status.idle": "2024-06-27T20:34:36.986341Z",
          "shell.execute_reply.started": "2024-06-27T20:34:36.721102Z",
          "shell.execute_reply": "2024-06-27T20:34:36.985181Z"
        },
        "trusted": true,
        "id": "zdPfC_Zsf6sM",
        "outputId": "8bb71417-4ed8-4f05-8080-5451f6370832"
      },
      "execution_count": null,
      "outputs": [
        {
          "name": "stdout",
          "text": "Self-Supervised Model Accuracy: 0.73696\n",
          "output_type": "stream"
        }
      ]
    },
    {
      "cell_type": "markdown",
      "source": [
        "# Semi_Supervised Model"
      ],
      "metadata": {
        "id": "Aqnm-Pief6sN"
      }
    },
    {
      "cell_type": "code",
      "source": [
        "def train_semi_supervised_model(train_embeddings, train_labels, fraction):\n",
        "    num_labeled = int(fraction * len(train_labels))\n",
        "    clf_semi_supervised = LogisticRegression(max_iter=1000)\n",
        "    clf_semi_supervised.fit(train_embeddings[:num_labeled], train_labels[:num_labeled])\n",
        "    return clf_semi_supervised"
      ],
      "metadata": {
        "execution": {
          "iopub.status.busy": "2024-06-27T20:34:36.987829Z",
          "iopub.execute_input": "2024-06-27T20:34:36.993457Z",
          "iopub.status.idle": "2024-06-27T20:34:37.005080Z",
          "shell.execute_reply.started": "2024-06-27T20:34:36.993404Z",
          "shell.execute_reply": "2024-06-27T20:34:37.003590Z"
        },
        "trusted": true,
        "id": "OoLbYlI5f6sN"
      },
      "execution_count": null,
      "outputs": []
    },
    {
      "cell_type": "markdown",
      "source": [
        "### Find the minimum amount of labeled data required to achieve the result of the fully supervised model."
      ],
      "metadata": {
        "id": "_iDn-3JYf6sN"
      }
    },
    {
      "cell_type": "code",
      "source": [
        "def find_min_fraction(train_embeddings, train_labels, test_embeddings, test_labels, accuracy_supervised, threshold=0.01):\n",
        "    fractions = np.linspace(0.1, 1.0, 10)\n",
        "    best_fraction = 1.0\n",
        "    for fraction in fractions:\n",
        "        clf_semi_supervised = train_semi_supervised_model(train_embeddings, train_labels, fraction)\n",
        "        accuracy_semi_supervised = evaluate_model(clf_semi_supervised, test_embeddings, test_labels)\n",
        "        print(f\"Semi-Supervised Model Accuracy (using {fraction * 100}% labeled data): {accuracy_semi_supervised*100}\")\n",
        "        if accuracy_supervised - accuracy_semi_supervised <= threshold:\n",
        "            best_fraction = fraction\n",
        "            break\n",
        "    return best_fraction"
      ],
      "metadata": {
        "execution": {
          "iopub.status.busy": "2024-06-27T20:34:37.007092Z",
          "iopub.execute_input": "2024-06-27T20:34:37.008103Z",
          "iopub.status.idle": "2024-06-27T20:34:37.018534Z",
          "shell.execute_reply.started": "2024-06-27T20:34:37.007888Z",
          "shell.execute_reply": "2024-06-27T20:34:37.017180Z"
        },
        "trusted": true,
        "id": "cT5jB01Gf6sO"
      },
      "execution_count": null,
      "outputs": []
    },
    {
      "cell_type": "markdown",
      "source": [
        "# Minimum Fraction Of Labeled Data"
      ],
      "metadata": {
        "id": "20KyRdc6f6sO"
      }
    },
    {
      "cell_type": "code",
      "source": [
        "# Find minimum fraction of labeled data\n",
        "min_fraction = find_min_fraction(train_embeddings, train_labels, test_embeddings, test_labels, accuracy_supervised)\n",
        "print(f\"Minimum fraction of labeled data required: {min_fraction}\")"
      ],
      "metadata": {
        "execution": {
          "iopub.status.busy": "2024-06-27T20:34:37.020751Z",
          "iopub.execute_input": "2024-06-27T20:34:37.021796Z",
          "iopub.status.idle": "2024-06-27T20:34:37.344686Z",
          "shell.execute_reply.started": "2024-06-27T20:34:37.021622Z",
          "shell.execute_reply": "2024-06-27T20:34:37.343453Z"
        },
        "trusted": true,
        "id": "6lRgbX00f6sP",
        "outputId": "9752caea-00a9-47b1-da9d-9a7f05c78e7d"
      },
      "execution_count": null,
      "outputs": [
        {
          "name": "stdout",
          "text": "Semi-Supervised Model Accuracy (using 10.0% labeled data): 81.592\nSemi-Supervised Model Accuracy (using 20.0% labeled data): 82.28\nMinimum fraction of labeled data required: 0.2\n",
          "output_type": "stream"
        }
      ]
    }
  ]
}